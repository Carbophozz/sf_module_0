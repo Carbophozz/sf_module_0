{
 "cells": [
  {
   "cell_type": "code",
   "execution_count": 10,
   "metadata": {},
   "outputs": [
    {
     "name": "stdout",
     "output_type": "stream",
     "text": [
      "Ваш алгоритм угадывает число в среднем за 5 попыток\n",
      "Ваш алгоритм угадывает число в среднем за 5 попыток\n"
     ]
    },
    {
     "data": {
      "text/plain": [
       "5"
      ]
     },
     "execution_count": 10,
     "metadata": {},
     "output_type": "execute_result"
    }
   ],
   "source": [
    "import numpy as np\n",
    "\n",
    "\n",
    "def game_core_v3(number):\n",
    "\n",
    "    '''using trivial diсhotomy search'''\n",
    "    \n",
    "    # just in case we might change the range of possible guesses\n",
    "    lo = 1\n",
    "    hi = 100\n",
    "    \n",
    "    count = 1\n",
    "    \n",
    "    step = ((hi-lo) + (hi-lo)%2) // 2  # initally it is half length of the range\n",
    "    predict = lo+step  # and we start checking right from the middle of the range\n",
    "    \n",
    "    while number != predict:\n",
    "        \n",
    "        #with each iteration step is diminished in half\n",
    "        \n",
    "        step = (step + step % 2) // 2\n",
    "        if number > predict: \n",
    "            predict += step\n",
    "\n",
    "        elif number < predict: \n",
    "            predict -= step\n",
    "         \n",
    "        count+=1\n",
    "\n",
    "    return(count)\n",
    "\n",
    "\n",
    "\n",
    "\n",
    "\n",
    " #the recursive version\n",
    " #looks much better, but is 20% slower\n",
    " #and we have to hard preset the predict and step values\n",
    " #so it could be called by the testing function seamlessly\n",
    " #but I've wrote this just to check if it will be significantly slower    \n",
    "\n",
    "\n",
    "def game_core_v4(number, predict=50, step=50):\n",
    "\n",
    "\n",
    "    step = (step + step % 2) // 2\n",
    "  \n",
    "    if number > predict: \n",
    "        return 1 + game_core_v4(number, predict+step, step)\n",
    "     \n",
    "\n",
    "    if number < predict: \n",
    "        return 1 + game_core_v4(number, predict-step, step)\n",
    "   \n",
    "    return 1\n",
    "\n",
    "\n",
    "\n",
    "        \n",
    "\n",
    "def score_game(game_core):\n",
    "\n",
    "    '''Запускаем игру 1000 раз, чтоб узнать как быстро игра угадывает число'''\n",
    "\n",
    "    count_ls = []\n",
    "    np.random.seed(1)  # фиксируем RANDOM SEED, чтобы ваш эксперимент был воспроизводим!\n",
    "    random_array = np.random.randint(1,100, size=(1000))\n",
    "    for number in random_array:\n",
    "        count_ls.append(game_core(number))\n",
    "\n",
    "    score = int(np.mean(count_ls))\n",
    "    print(f\"Ваш алгоритм угадывает число в среднем за {score} попыток\")\n",
    "\n",
    "    return(score)\n",
    "\n",
    "\n",
    "\n",
    "score_game(game_core_v3)\n",
    "score_game(game_core_v4)\n",
    "\n",
    "\n"
   ]
  }
 ],
 "metadata": {
  "kernelspec": {
   "display_name": "Python 3",
   "language": "python",
   "name": "python3"
  },
  "language_info": {
   "codemirror_mode": {
    "name": "ipython",
    "version": 3
   },
   "file_extension": ".py",
   "mimetype": "text/x-python",
   "name": "python",
   "nbconvert_exporter": "python",
   "pygments_lexer": "ipython3",
   "version": "3.7.4"
  }
 },
 "nbformat": 4,
 "nbformat_minor": 2
}
